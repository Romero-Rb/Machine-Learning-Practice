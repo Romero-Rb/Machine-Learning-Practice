{
 "cells": [
  {
   "cell_type": "markdown",
   "id": "88d59261-bd9d-452d-a800-e6a2c0db4f98",
   "metadata": {},
   "source": [
    "# Linear Regression Model Creation and Optimization"
   ]
  },
  {
   "cell_type": "markdown",
   "id": "e95c562a-1269-4457-aada-c4b045aa5448",
   "metadata": {},
   "source": [
    "The goal of this notebook is to implement an optimized linear regression model utilizing batch gradient descent to lower the Squared Error Cost\n",
    "The focus is not data analysis but rather algorithm implementation into useful datasets"
   ]
  },
  {
   "cell_type": "raw",
   "id": "cd05708c-9cd2-4340-9e0a-a9dfb6ea863b",
   "metadata": {},
   "source": [
    "The focus of this project is to analyze and create a linear regression model and gradient descent algorithm\n",
    "\n",
    "The objective of the gradient descent is to minimize the cost function, which determines the error in our predictions\n",
    "\n",
    "\n",
    "The dataset can be obtained from kaggle from the following link https://www.kaggle.com/datasets/samayashar/startup-growth-and-funding-trends?resource=download\n",
    "\n",
    "Dataset By Name: Startup Growth & Funding Trends \n",
    "Dataset Uploader: Samay Ashar\n",
    "\n"
   ]
  },
  {
   "cell_type": "markdown",
   "id": "e0169fb0-68fc-4358-9466-a7ee24644195",
   "metadata": {},
   "source": [
    "## Goals"
   ]
  },
  {
   "cell_type": "markdown",
   "id": "0deb66d7-d78c-48c8-bfd0-f1f46fbf834a",
   "metadata": {},
   "source": [
    "- Implement a linear regression algorithm\n",
    "- Create an optimization function for batch gradient descent\n",
    "\n",
    "\n"
   ]
  },
  {
   "cell_type": "markdown",
   "id": "d1015a73-416f-42c0-a55a-c51faf680d46",
   "metadata": {},
   "source": [
    "Importing Required Libraries"
   ]
  },
  {
   "cell_type": "code",
   "execution_count": 7,
   "id": "fcd4ff03-24b3-4971-915e-bb87b08ee923",
   "metadata": {},
   "outputs": [],
   "source": [
    "import numpy as np\n",
    "import pandas as pd\n",
    "from sklearn.model_selection import train_test_split\n",
    "import matplotlib.pyplot as plt\n",
    "import math\n"
   ]
  },
  {
   "cell_type": "code",
   "execution_count": 8,
   "id": "64856a7c-6a14-4307-b914-c0d922ef43cd",
   "metadata": {},
   "outputs": [],
   "source": [
    "dframe = pd.read_csv(\"startup_data.csv\")"
   ]
  },
  {
   "cell_type": "markdown",
   "id": "a4e37799-2ef3-4a25-b1dd-9a22f9789656",
   "metadata": {},
   "source": [
    "## First Step\n",
    "\n",
    "The first goal is to implement a cost function to use to determine the squared error value\n",
    "\n",
    "This will be the equation for the cost function\n",
    "$$J(w,b) = \\frac{1}{2m} \\sum\\limits_{i = 0}^{m-1} (f_{w,b}(x^{(i)}) - y^{(i)})^2$$ \n",
    "\n",
    "- Choosing our 3 features\n",
    "- Creating testing Sets\n"
   ]
  },
  {
   "cell_type": "code",
   "execution_count": 10,
   "id": "cb684255-836f-4b41-9001-5d612253ae51",
   "metadata": {},
   "outputs": [
    {
     "data": {
      "text/html": [
       "<div>\n",
       "<style scoped>\n",
       "    .dataframe tbody tr th:only-of-type {\n",
       "        vertical-align: middle;\n",
       "    }\n",
       "\n",
       "    .dataframe tbody tr th {\n",
       "        vertical-align: top;\n",
       "    }\n",
       "\n",
       "    .dataframe thead th {\n",
       "        text-align: right;\n",
       "    }\n",
       "</style>\n",
       "<table border=\"1\" class=\"dataframe\">\n",
       "  <thead>\n",
       "    <tr style=\"text-align: right;\">\n",
       "      <th></th>\n",
       "      <th>Startup Name</th>\n",
       "      <th>Industry</th>\n",
       "      <th>Funding Rounds</th>\n",
       "      <th>Funding Amount (M USD)</th>\n",
       "      <th>Valuation (M USD)</th>\n",
       "      <th>Revenue (M USD)</th>\n",
       "      <th>Employees</th>\n",
       "      <th>Market Share (%)</th>\n",
       "      <th>Profitable</th>\n",
       "      <th>Year Founded</th>\n",
       "      <th>Region</th>\n",
       "      <th>Exit Status</th>\n",
       "    </tr>\n",
       "  </thead>\n",
       "  <tbody>\n",
       "    <tr>\n",
       "      <th>0</th>\n",
       "      <td>Startup_1</td>\n",
       "      <td>IoT</td>\n",
       "      <td>1</td>\n",
       "      <td>101.09</td>\n",
       "      <td>844.75</td>\n",
       "      <td>67.87</td>\n",
       "      <td>1468</td>\n",
       "      <td>5.20</td>\n",
       "      <td>0</td>\n",
       "      <td>2006</td>\n",
       "      <td>Europe</td>\n",
       "      <td>Private</td>\n",
       "    </tr>\n",
       "    <tr>\n",
       "      <th>1</th>\n",
       "      <td>Startup_2</td>\n",
       "      <td>EdTech</td>\n",
       "      <td>1</td>\n",
       "      <td>247.62</td>\n",
       "      <td>3310.83</td>\n",
       "      <td>75.65</td>\n",
       "      <td>3280</td>\n",
       "      <td>8.10</td>\n",
       "      <td>1</td>\n",
       "      <td>2003</td>\n",
       "      <td>South America</td>\n",
       "      <td>Private</td>\n",
       "    </tr>\n",
       "    <tr>\n",
       "      <th>2</th>\n",
       "      <td>Startup_3</td>\n",
       "      <td>EdTech</td>\n",
       "      <td>1</td>\n",
       "      <td>109.24</td>\n",
       "      <td>1059.37</td>\n",
       "      <td>84.21</td>\n",
       "      <td>4933</td>\n",
       "      <td>2.61</td>\n",
       "      <td>1</td>\n",
       "      <td>1995</td>\n",
       "      <td>South America</td>\n",
       "      <td>Private</td>\n",
       "    </tr>\n",
       "    <tr>\n",
       "      <th>3</th>\n",
       "      <td>Startup_4</td>\n",
       "      <td>Gaming</td>\n",
       "      <td>5</td>\n",
       "      <td>10.75</td>\n",
       "      <td>101.90</td>\n",
       "      <td>47.08</td>\n",
       "      <td>1059</td>\n",
       "      <td>2.53</td>\n",
       "      <td>0</td>\n",
       "      <td>2003</td>\n",
       "      <td>South America</td>\n",
       "      <td>Private</td>\n",
       "    </tr>\n",
       "    <tr>\n",
       "      <th>4</th>\n",
       "      <td>Startup_5</td>\n",
       "      <td>IoT</td>\n",
       "      <td>4</td>\n",
       "      <td>249.28</td>\n",
       "      <td>850.11</td>\n",
       "      <td>50.25</td>\n",
       "      <td>1905</td>\n",
       "      <td>4.09</td>\n",
       "      <td>0</td>\n",
       "      <td>1997</td>\n",
       "      <td>Europe</td>\n",
       "      <td>Acquired</td>\n",
       "    </tr>\n",
       "    <tr>\n",
       "      <th>...</th>\n",
       "      <td>...</td>\n",
       "      <td>...</td>\n",
       "      <td>...</td>\n",
       "      <td>...</td>\n",
       "      <td>...</td>\n",
       "      <td>...</td>\n",
       "      <td>...</td>\n",
       "      <td>...</td>\n",
       "      <td>...</td>\n",
       "      <td>...</td>\n",
       "      <td>...</td>\n",
       "      <td>...</td>\n",
       "    </tr>\n",
       "    <tr>\n",
       "      <th>495</th>\n",
       "      <td>Startup_496</td>\n",
       "      <td>EdTech</td>\n",
       "      <td>2</td>\n",
       "      <td>181.86</td>\n",
       "      <td>2378.65</td>\n",
       "      <td>59.64</td>\n",
       "      <td>3331</td>\n",
       "      <td>0.58</td>\n",
       "      <td>1</td>\n",
       "      <td>1993</td>\n",
       "      <td>Europe</td>\n",
       "      <td>Private</td>\n",
       "    </tr>\n",
       "    <tr>\n",
       "      <th>496</th>\n",
       "      <td>Startup_497</td>\n",
       "      <td>AI</td>\n",
       "      <td>2</td>\n",
       "      <td>107.34</td>\n",
       "      <td>1394.58</td>\n",
       "      <td>10.22</td>\n",
       "      <td>2223</td>\n",
       "      <td>5.85</td>\n",
       "      <td>0</td>\n",
       "      <td>2019</td>\n",
       "      <td>South America</td>\n",
       "      <td>Private</td>\n",
       "    </tr>\n",
       "    <tr>\n",
       "      <th>497</th>\n",
       "      <td>Startup_498</td>\n",
       "      <td>E-Commerce</td>\n",
       "      <td>1</td>\n",
       "      <td>160.29</td>\n",
       "      <td>502.09</td>\n",
       "      <td>84.73</td>\n",
       "      <td>2222</td>\n",
       "      <td>4.32</td>\n",
       "      <td>0</td>\n",
       "      <td>2019</td>\n",
       "      <td>Australia</td>\n",
       "      <td>Private</td>\n",
       "    </tr>\n",
       "    <tr>\n",
       "      <th>498</th>\n",
       "      <td>Startup_499</td>\n",
       "      <td>Gaming</td>\n",
       "      <td>5</td>\n",
       "      <td>234.65</td>\n",
       "      <td>2814.52</td>\n",
       "      <td>53.16</td>\n",
       "      <td>4972</td>\n",
       "      <td>5.53</td>\n",
       "      <td>0</td>\n",
       "      <td>2011</td>\n",
       "      <td>Europe</td>\n",
       "      <td>Private</td>\n",
       "    </tr>\n",
       "    <tr>\n",
       "      <th>499</th>\n",
       "      <td>Startup_500</td>\n",
       "      <td>HealthTech</td>\n",
       "      <td>4</td>\n",
       "      <td>211.76</td>\n",
       "      <td>2563.17</td>\n",
       "      <td>84.19</td>\n",
       "      <td>2374</td>\n",
       "      <td>5.26</td>\n",
       "      <td>0</td>\n",
       "      <td>2000</td>\n",
       "      <td>North America</td>\n",
       "      <td>Private</td>\n",
       "    </tr>\n",
       "  </tbody>\n",
       "</table>\n",
       "<p>500 rows × 12 columns</p>\n",
       "</div>"
      ],
      "text/plain": [
       "    Startup Name    Industry  Funding Rounds  Funding Amount (M USD)  \\\n",
       "0      Startup_1         IoT               1                  101.09   \n",
       "1      Startup_2      EdTech               1                  247.62   \n",
       "2      Startup_3      EdTech               1                  109.24   \n",
       "3      Startup_4      Gaming               5                   10.75   \n",
       "4      Startup_5         IoT               4                  249.28   \n",
       "..           ...         ...             ...                     ...   \n",
       "495  Startup_496      EdTech               2                  181.86   \n",
       "496  Startup_497          AI               2                  107.34   \n",
       "497  Startup_498  E-Commerce               1                  160.29   \n",
       "498  Startup_499      Gaming               5                  234.65   \n",
       "499  Startup_500  HealthTech               4                  211.76   \n",
       "\n",
       "     Valuation (M USD)  Revenue (M USD)  Employees  Market Share (%)  \\\n",
       "0               844.75            67.87       1468              5.20   \n",
       "1              3310.83            75.65       3280              8.10   \n",
       "2              1059.37            84.21       4933              2.61   \n",
       "3               101.90            47.08       1059              2.53   \n",
       "4               850.11            50.25       1905              4.09   \n",
       "..                 ...              ...        ...               ...   \n",
       "495            2378.65            59.64       3331              0.58   \n",
       "496            1394.58            10.22       2223              5.85   \n",
       "497             502.09            84.73       2222              4.32   \n",
       "498            2814.52            53.16       4972              5.53   \n",
       "499            2563.17            84.19       2374              5.26   \n",
       "\n",
       "     Profitable  Year Founded         Region Exit Status  \n",
       "0             0          2006         Europe     Private  \n",
       "1             1          2003  South America     Private  \n",
       "2             1          1995  South America     Private  \n",
       "3             0          2003  South America     Private  \n",
       "4             0          1997         Europe    Acquired  \n",
       "..          ...           ...            ...         ...  \n",
       "495           1          1993         Europe     Private  \n",
       "496           0          2019  South America     Private  \n",
       "497           0          2019      Australia     Private  \n",
       "498           0          2011         Europe     Private  \n",
       "499           0          2000  North America     Private  \n",
       "\n",
       "[500 rows x 12 columns]"
      ]
     },
     "execution_count": 10,
     "metadata": {},
     "output_type": "execute_result"
    }
   ],
   "source": [
    "dframe"
   ]
  },
  {
   "cell_type": "markdown",
   "id": "75ef9060-5a47-4e52-9f19-9101d4f7736f",
   "metadata": {},
   "source": [
    "The three columns I will choose to analyze against revenue will be, Amount of Employees, Funding Amounts and Valuation\n",
    "For this i will create 3 train-test splits\n"
   ]
  },
  {
   "cell_type": "code",
   "execution_count": 12,
   "id": "13a32ba3-fb15-42b3-8fad-c9f13bf8f2df",
   "metadata": {},
   "outputs": [],
   "source": [
    "y = dframe[\"Revenue (M USD)\"]"
   ]
  },
  {
   "cell_type": "code",
   "execution_count": 13,
   "id": "5dff6ee8-71e1-4936-8b48-a6856928bc46",
   "metadata": {},
   "outputs": [],
   "source": [
    "x_fun = dframe[\"Funding Amount (M USD)\"]\n",
    "x_val = dframe[\"Valuation (M USD)\"]\n",
    "\n",
    "\n",
    "\n"
   ]
  },
  {
   "cell_type": "code",
   "execution_count": 14,
   "id": "cce60da3-7947-4a75-920c-50068939bf23",
   "metadata": {},
   "outputs": [],
   "source": [
    "x_funtrain, x_funtest, y_funtrain, y_funtest = train_test_split(x_fun,y, test_size = 0.3, random_state = 9)\n",
    "\n",
    "x_valtrain, x_valtest, y_valtrain, y_valtest = train_test_split(x_val,y, test_size = 0.3, random_state = 9)\n",
    "\n",
    "\n",
    "\n"
   ]
  },
  {
   "cell_type": "code",
   "execution_count": 15,
   "id": "0a537112-bdb6-44a7-8405-2aa7f912d974",
   "metadata": {},
   "outputs": [],
   "source": [
    "\n",
    "\n",
    "\n",
    "\n",
    "#converting to numpy array\n",
    "\n",
    "\n",
    "\n",
    "\n",
    "x_funtrain = x_funtrain.to_numpy()\n",
    "x_funtest = x_funtest.to_numpy()\n",
    "y_funtrain = y_funtrain.to_numpy()\n",
    "y_funtest = y_funtest.to_numpy()\n",
    "\n",
    "x_valtrain = x_valtrain.to_numpy()\n",
    "x_valtest = x_valtest.to_numpy()\n",
    "y_valtrain = y_valtrain.to_numpy()\n",
    "y_valtest = y_valtest.to_numpy()\n",
    "\n",
    "\n",
    "\n",
    "\n",
    "\n",
    "\n",
    "\n",
    "\n",
    "\n",
    "\n"
   ]
  },
  {
   "cell_type": "code",
   "execution_count": 16,
   "id": "9807d325-0c94-45ca-8393-6c1480d92a42",
   "metadata": {},
   "outputs": [
    {
     "data": {
      "text/plain": [
       "numpy.ndarray"
      ]
     },
     "execution_count": 16,
     "metadata": {},
     "output_type": "execute_result"
    }
   ],
   "source": [
    "type(x_funtrain)"
   ]
  },
  {
   "cell_type": "code",
   "execution_count": 17,
   "id": "d195906b-61d7-4e2b-bac6-67b389fc98b3",
   "metadata": {},
   "outputs": [],
   "source": [
    "#Now creating the cost function\n",
    "\n",
    "\n",
    "def cost_func(x, y, w, b):\n",
    "\n",
    "    \"\"\"\n",
    "\n",
    "    Variable definitions\n",
    "    m = amount of features\n",
    "    curcost = Sum of cost of thhe features before total calculation\n",
    "\n",
    "    \"\"\"\n",
    "\n",
    "    m = x.shape[0]\n",
    "    curcost = 0\n",
    "\n",
    "    for i in range(m):\n",
    "        fwb = w*x[i] + b\n",
    "        curcost = curcost + (fwb - y[i]) ** 2\n",
    "    \n",
    "\n",
    "    total_cost = 1/(2*m) * curcost\n",
    "    return total_cost\n",
    "\n"
   ]
  },
  {
   "cell_type": "markdown",
   "id": "b4528ac5-f3f7-42a2-baf7-078d38227aac",
   "metadata": {},
   "source": [
    "### Second Step \n",
    "The next step is creating the function for the partial derivative of the squared error cost, this is to aid in the gradient descent function which is represented in this equation\n",
    "\n",
    "$$\\begin{align*} \n",
    "\\text{}&\\text{} \\; \\lbrace \\newline\n",
    "\\;  w &= w -  \\alpha \\frac{\\partial J(w,b)}{\\partial w}  \\; \\newline \n",
    " b &= b -  \\alpha \\frac{\\partial J(w,b)}{\\partial b}  \\newline \\rbrace\n",
    "\\end{align*}$$\n",
    "\n",
    "\n",
    "And the partial derivative for w and b respectively\n",
    "\n",
    "$$\n",
    "\\begin{align}\n",
    "\\frac{\\partial J(w,b)}{\\partial w}  &= \\frac{1}{m} \\sum\\limits_{i = 0}^{m-1} (f_{w,b}(x^{(i)}) - y^{(i)})x^{(i)} \\\\\n",
    "  \\frac{\\partial J(w,b)}{\\partial b}  &= \\frac{1}{m} \\sum\\limits_{i = 0}^{m-1} (f_{w,b}(x^{(i)}) - y^{(i)}) \\\\\n",
    "\\end{align}\n",
    "$$\n"
   ]
  },
  {
   "cell_type": "code",
   "execution_count": 19,
   "id": "8e100749-79d0-4fab-91c2-c3f2b0ba6775",
   "metadata": {},
   "outputs": [],
   "source": [
    "\n",
    "def partial_descent(x, y, w, b):\n",
    "\n",
    "    \"\"\"\n",
    "    Variable definitions\n",
    "    \n",
    "    m = the amount of features\n",
    "    \n",
    "    dw_jw = Partial derivative for the function with w\n",
    "    dw_jb = Partial derivative for the function with b\n",
    "\n",
    "    \"\"\"\n",
    "    m = x.shape[0]\n",
    "    dj_dw = 0\n",
    "    dj_db = 0\n",
    "    for i in range(m):\n",
    "        \n",
    "        fwb = (w * x[i]) + b\n",
    "        \n",
    "        \n",
    "        dj_dw_cur = (fwb - y[i]) * x[i]\n",
    "        dj_db_cur = (fwb - y[i])\n",
    "        \n",
    "        dj_dw += dj_dw_cur\n",
    "        dj_db += dj_db_cur\n",
    "\n",
    "        dj_jw =  dj_dw / m\n",
    "        dj_jb =  dj_db / m\n",
    "\n",
    "    return dj_dw, dj_db\n",
    "    "
   ]
  },
  {
   "cell_type": "markdown",
   "id": "a5e6903a-a27b-4be9-a9c6-71156b85cac9",
   "metadata": {},
   "source": [
    "### Third Step\n",
    "The last step to creating the algorithm is to create the gradient descent function itself while also providing functionality to review the changes in cost through each iteration.\n",
    "\n"
   ]
  },
  {
   "cell_type": "code",
   "execution_count": 41,
   "id": "35f30f45-cbcc-4d2e-8a70-8f2e7756a261",
   "metadata": {},
   "outputs": [],
   "source": [
    "def gradient_descent(x, y, w_initial, b_initial, alpha, iterations, cost_func, partial_descent):\n",
    "    \n",
    "        \n",
    "    cost_prev = []\n",
    "    prev_wb = []\n",
    "\n",
    "    w = w_initial\n",
    "    b = b_initial\n",
    "   \n",
    "    for i in range(iterations):\n",
    "        dw_jw, dw_jb = partial_descent(x, y, w, b)\n",
    "    \n",
    "        w = w - alpha * dw_jw\n",
    "        b = b - alpha * dw_jb\n",
    "\n",
    "\n",
    "        if i < 200000:\n",
    "            cost_prev.append(cost_func(x, y, w, b))\n",
    "            prev_wb.append([w,b])\n",
    "\n",
    "    return w, b, cost_prev, prev_wb"
   ]
  },
  {
   "cell_type": "markdown",
   "id": "83039ffe-0295-43d9-b242-81252313543e",
   "metadata": {},
   "source": [
    "### Final steps\n",
    "\n",
    "The final part is to actually plot the best gradient descent provided by the function and to display the cost at each iteration on a graph to analyze how it changes with gradient descent\n",
    "\n"
   ]
  },
  {
   "cell_type": "code",
   "execution_count": 44,
   "id": "68ea8a37-d86e-4e92-a8a8-d45a97be4076",
   "metadata": {},
   "outputs": [
    {
     "name": "stdout",
     "output_type": "stream",
     "text": [
      "0.06789603610037456 35.807862063704\n"
     ]
    }
   ],
   "source": [
    "# Lets set initial values for w and b = 0\n",
    "\n",
    "w_start = 0\n",
    "b_start = 0\n",
    "\n",
    "iterations = 170000\n",
    "             \n",
    "alpha = 1.0e-7\n",
    "\n",
    "# First we'll train with the amount of funding that the start up recieved as the x, with revenue as our y\n",
    "fun_w, fun_b, fun_cost_prev, fun_prev_wb = gradient_descent(x_funtrain, y_funtrain, w_start, b_start, alpha, iterations, cost_func, partial_descent)\n",
    "\n",
    "print(fun_w, fun_b)"
   ]
  },
  {
   "cell_type": "code",
   "execution_count": 45,
   "id": "7871e655-20ed-436b-b73b-33589ea25ac6",
   "metadata": {},
   "outputs": [
    {
     "data": {
      "text/plain": [
       "[<matplotlib.lines.Line2D at 0x209997aa060>]"
      ]
     },
     "execution_count": 45,
     "metadata": {},
     "output_type": "execute_result"
    },
    {
     "data": {
      "image/png": "[encoded data removed]",
      "text/plain": [
       "<Figure size 640x480 with 1 Axes>"
      ]
     },
     "metadata": {},
     "output_type": "display_data"
    }
   ],
   "source": [
    "it100 = [x for x in range (100)]\n",
    "plt.plot (it100, fun_cost_prev[:100])\n",
    "\n",
    "\n",
    "\n"
   ]
  },
  {
   "cell_type": "code",
   "execution_count": 46,
   "id": "bcd9e2da-abd5-4e34-aa4f-08e648f7a9d4",
   "metadata": {},
   "outputs": [
    {
     "data": {
      "text/plain": [
       "[<matplotlib.lines.Line2D at 0x209a0827dd0>]"
      ]
     },
     "execution_count": 46,
     "metadata": {},
     "output_type": "execute_result"
    },
    {
     "data": {
      "image/png": "[encoded data removed]",
      "text/plain": [
       "<Figure size 640x480 with 1 Axes>"
      ]
     },
     "metadata": {},
     "output_type": "display_data"
    }
   ],
   "source": [
    "it5000 = [x for x in range (4000, 5000)]\n",
    "\n",
    "plt.plot(it5000, fun_cost_prev[4000:5000])"
   ]
  },
  {
   "cell_type": "code",
   "execution_count": 47,
   "id": "aaac4c9b-f583-47a9-a0a1-3567f9cc22b4",
   "metadata": {},
   "outputs": [
    {
     "data": {
      "text/plain": [
       "[<matplotlib.lines.Line2D at 0x209a0365f70>]"
      ]
     },
     "execution_count": 47,
     "metadata": {},
     "output_type": "execute_result"
    },
    {
     "data": {
      "image/png": "[encoded data removed]",
      "text/plain": [
       "<Figure size 640x480 with 1 Axes>"
      ]
     },
     "metadata": {},
     "output_type": "display_data"
    }
   ],
   "source": [
    "it5000 = [x for x in range (70000)]\n",
    "\n",
    "plt.plot(it5000, fun_cost_prev[100000:])"
   ]
  },
  {
   "cell_type": "markdown",
   "id": "96606b06-c0c5-4372-a806-b8d037658139",
   "metadata": {},
   "source": [
    "### Analysis\n",
    "\n",
    "From these 3 graphs we can see that the cost is optimized over time, only neededing more iterations to find an appropriate value.\n",
    "If we normalize the data we can find a value for gradient descent that is appropriate for use, which will be the next part\n",
    "\n",
    "\n"
   ]
  },
  {
   "cell_type": "code",
   "execution_count": 58,
   "id": "2c64d300-9bf1-4e83-869d-c9ca864efd9d",
   "metadata": {},
   "outputs": [],
   "source": [
    "x_funmean = x_funtrain.mean()\n",
    "x_funstd = x_funtrain.std()\n",
    "y_funmean = y_funtrain.mean()\n",
    "y_funstd = y_funtrain.std()\n",
    "\n",
    "x_valmean = x_valtrain.mean()\n",
    "x_valstd = x_valtrain.std()\n",
    "y_valmean = y_valtrain.mean()\n",
    "y_valstd = y_valtrain.std()\n",
    "\n",
    "x_funtrain_nm = (x_funtrain - x_funmean) / x_funstd\n",
    "x_funtest_nm = (x_funtest - x_funmean) / x_funstd\n",
    "y_funtrain_nm = (y_funtrain - y_funmean) / y_funstd\n",
    "y_funtest_nm = (y_funtest - y_funmean) / y_funstd\n",
    "\n",
    "x_valtrain_nm = (x_valtrain - x_valmean) / x_valstd\n",
    "x_valtest_nm = (x_valtest - x_valmean) / x_valstd\n",
    "y_valtrain_nm =(y_valtrain - y_valmean) / y_valstd\n",
    "y_valtest_nm = (y_valtest - y_valmean) / y_valstd\n"
   ]
  },
  {
   "cell_type": "code",
   "execution_count": 75,
   "id": "3f71c8c0-8217-4ba1-90bf-76f308c9eb7a",
   "metadata": {},
   "outputs": [
    {
     "name": "stdout",
     "output_type": "stream",
     "text": [
      "0.06235461293480753 1.3967993428567358e-16\n"
     ]
    }
   ],
   "source": [
    "# Lets set initial values for w and b = 0\n",
    "\n",
    "w_start = 0\n",
    "b_start = 0\n",
    "\n",
    "iterationsmin = 12000\n",
    "alphamin = 5.0e-3\n",
    "\n",
    "# First we'll train with the amount of funding that the start up recieved as the x, with revenue as our y\n",
    "fun_min_w, fun_min_b, fun_min_cost_prev, funmin_prev_wb = gradient_descent(x_funtrain_nm, y_funtrain_nm, w_start, b_start, alphamin, iterationsmin, cost_func, partial_descent)\n",
    "\n",
    "print(fun_min_w, fun_min_b)"
   ]
  },
  {
   "cell_type": "code",
   "execution_count": 76,
   "id": "67078915-f7f7-475b-bac2-e86439353d56",
   "metadata": {},
   "outputs": [
    {
     "data": {
      "text/plain": [
       "[<matplotlib.lines.Line2D at 0x209a16bfdd0>]"
      ]
     },
     "execution_count": 76,
     "metadata": {},
     "output_type": "execute_result"
    },
    {
     "data": {
      "image/png": "[encoded data removed]",
      "text/plain": [
       "<Figure size 640x480 with 1 Axes>"
      ]
     },
     "metadata": {},
     "output_type": "display_data"
    }
   ],
   "source": [
    "itmin100 = [x for x in range (100)]\n",
    "plt.plot (itmin100, fun_min_cost_prev[:100])\n",
    "\n",
    "\n"
   ]
  },
  {
   "cell_type": "markdown",
   "id": "9c0e4b69-1b13-44b8-bcac-1a34c30039be",
   "metadata": {},
   "source": [
    "________________________________________________________________________________________________________________\n",
    "The graph below shows that our cost function has been minimized and will not go any further for this normalized data\n",
    "Thus with this gradient descent algorithm, a minimum value as been found and can be used, so we can assume that for the non minimized data that\n",
    "the algorithm can do the same with it"
   ]
  },
  {
   "cell_type": "code",
   "execution_count": 79,
   "id": "e24289b5-9516-4733-81e2-8ceeaced6d08",
   "metadata": {},
   "outputs": [
    {
     "data": {
      "text/plain": [
       "[<matplotlib.lines.Line2D at 0x209a19dfc20>]"
      ]
     },
     "execution_count": 79,
     "metadata": {},
     "output_type": "execute_result"
    },
    {
     "data": {
      "image/png": "[encoded data removed]",
      "text/plain": [
       "<Figure size 640x480 with 1 Axes>"
      ]
     },
     "metadata": {},
     "output_type": "display_data"
    }
   ],
   "source": [
    "itmin5000 = [x for x in range (4000, 5000)]\n",
    "\n",
    "plt.plot(itmin5000, fun_min_cost_prev[4000:5000])"
   ]
  },
  {
   "cell_type": "markdown",
   "id": "405f1918-df45-4b48-b305-23cfe280b801",
   "metadata": {},
   "source": [
    "### Graphing prediction values and the actual test values\n",
    "\n",
    "From these graphs we can determine that while we can use it to make some kind of prediction, the other features/columns present in the data set also have a significant effect on the revenue of the start up and just analyzing the funding it recieved isn't enough."
   ]
  },
  {
   "cell_type": "code",
   "execution_count": 49,
   "id": "83055517-68aa-4b67-a78b-0419a0fefed1",
   "metadata": {},
   "outputs": [
    {
     "data": {
      "text/plain": [
       "<matplotlib.collections.PathCollection at 0x209a0868a10>"
      ]
     },
     "execution_count": 49,
     "metadata": {},
     "output_type": "execute_result"
    },
    {
     "data": {
      "image/png": "[encoded data removed]",
      "text/plain": [
       "<Figure size 640x480 with 1 Axes>"
      ]
     },
     "metadata": {},
     "output_type": "display_data"
    }
   ],
   "source": [
    "fun_pred = []\n",
    "\n",
    "\n",
    "for i in range (x_funtest.shape[0]):\n",
    "    fun_pred.append( x_funtest[i] * fun_w + fun_b)\n",
    "\n",
    "\n",
    "plt.scatter(x_funtest, y_funtest)"
   ]
  },
  {
   "cell_type": "code",
   "execution_count": 50,
   "id": "e6a57bed-fcbf-46d3-b253-1362626d21c3",
   "metadata": {},
   "outputs": [
    {
     "data": {
      "text/plain": [
       "<matplotlib.collections.PathCollection at 0x209a21f6030>"
      ]
     },
     "execution_count": 50,
     "metadata": {},
     "output_type": "execute_result"
    },
    {
     "data": {
      "image/png": "[encoded data removed]",
      "text/plain": [
       "<Figure size 640x480 with 1 Axes>"
      ]
     },
     "metadata": {},
     "output_type": "display_data"
    }
   ],
   "source": [
    "plt.scatter(x_funtest, fun_pred)"
   ]
  },
  {
   "cell_type": "markdown",
   "id": "9cbc0287-d4a0-4e62-b629-4656245c0e2d",
   "metadata": {},
   "source": [
    "### END OF NOTEBOOK\n",
    "\n",
    "This notebook was created to aid in my understandingof linear regression and gradient descent algorithms, as well as understanding the inner workings of a linear regression algorithm. This serves as a record for my progress in Machine learning and Data analysis"
   ]
  },
  {
   "cell_type": "code",
   "execution_count": null,
   "id": "3d9fb4e7-3cda-42a9-89a9-bc320ad5a04e",
   "metadata": {},
   "outputs": [],
   "source": []
  }
 ],
 "metadata": {
  "kernelspec": {
   "display_name": "Python [conda env:base] *",
   "language": "python",
   "name": "conda-base-py"
  },
  "language_info": {
   "codemirror_mode": {
    "name": "ipython",
    "version": 3
   },
   "file_extension": ".py",
   "mimetype": "text/x-python",
   "name": "python",
   "nbconvert_exporter": "python",
   "pygments_lexer": "ipython3",
   "version": "3.12.7"
  }
 },
 "nbformat": 4,
 "nbformat_minor": 5
}
